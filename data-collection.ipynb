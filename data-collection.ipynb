{
 "cells": [
  {
   "cell_type": "code",
   "execution_count": 3,
   "metadata": {},
   "outputs": [
    {
     "name": "stdout",
     "output_type": "stream",
     "text": [
      "The Data collecting process is done!!... Off to the next step\n"
     ]
    }
   ],
   "source": [
    "import yfinance as yf\n",
    "import pandas as pd\n",
    "\n",
    "def fetch_stock_data(symbol, period='10y'):\n",
    "    stock = yf.Ticker(symbol)\n",
    "    hist = stock.history(period=period)\n",
    "    \n",
    "    # Ensure datetimes are timezone-unaware\n",
    "    hist.index = hist.index.tz_localize(None)\n",
    "    \n",
    "    # Corrected file path with formatted symbol\n",
    "    file_path = f'data/{symbol}_stockdata.xlsx'\n",
    "    hist.to_excel(file_path, engine='openpyxl')  # Specify engine as 'openpyxl'\n",
    "    return hist\n",
    "\n",
    "def process_stock_data(df):\n",
    "    if df is not None:\n",
    "        df.index = pd.to_datetime(df.index)\n",
    "        df.sort_index(ascending=False, inplace=True)\n",
    "    else:\n",
    "        print(\"No data to process.\")\n",
    "\n",
    "def fetch_data():\n",
    "    companies = [\n",
    "        'ASIANPAINT.NS', 'BRITANNIA.NS', 'CIPLA.NS', 'EICHERMOT.NS', 'NESTLEIND.NS', 'GRASIM.NS', \n",
    "        'HEROMOTOCO.NS', 'HINDALCO.NS', 'HINDUNILVR.NS', 'M&M.NS', 'RELIANCE.NS', 'TATACONSUM.NS', \n",
    "        'TATAMOTORS.NS', 'TATASTEEL.NS', 'WIPRO.NS', 'APOLLOHOSP.NS', 'DRREDDY.NS', 'TITAN.NS', \n",
    "        'SBIN.NS', 'SHRIRAMFIN.NS', 'BPCL.NS', 'INFY.NS', 'BAJFINANCE.NS', 'ADANIENT.NS', \n",
    "        'SUNPHARMA.NS', 'JSWSTEEL.NS', 'TCS.NS', 'POWERGRID.NS', 'MARUTI.NS', 'INDUSINDBK.NS', \n",
    "        'HCLTECH.NS', 'ONGC.NS', 'NTPC.NS', 'COALINDIA.NS', 'BHARTIARTL.NS', 'TECHM.NS', \n",
    "        'LTIM.NS', 'DIVISLAB.NS', 'ADANIPORTS.NS', 'HDFCLIFE.NS', 'SBILIFE.NS', 'ULTRACEMCO.NS', \n",
    "        'BAJAJ-AUTO.NS', 'BAJAJFINSV.NS', 'ITC.NS', 'LT.NS', 'KOTAKBANK.NS', 'HDFCBANK.NS', \n",
    "        'ICICIBANK.NS', 'AXISBANK.NS'\n",
    "    ]\n",
    "    \n",
    "    for symbol in companies:\n",
    "        # Fetch stock data\n",
    "        stock_data = fetch_stock_data(symbol)\n",
    "        process_stock_data(stock_data)\n",
    "        \n",
    "    print(\"The Data collecting process is done!!... Off to the next step\")\n",
    "\n",
    "fetch_data()\n"
   ]
  }
 ],
 "metadata": {
  "kernelspec": {
   "display_name": "Python 3",
   "language": "python",
   "name": "python3"
  },
  "language_info": {
   "codemirror_mode": {
    "name": "ipython",
    "version": 3
   },
   "file_extension": ".py",
   "mimetype": "text/x-python",
   "name": "python",
   "nbconvert_exporter": "python",
   "pygments_lexer": "ipython3",
   "version": "3.12.4"
  }
 },
 "nbformat": 4,
 "nbformat_minor": 2
}
